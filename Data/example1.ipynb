{
 "cells": [
  {
   "cell_type": "markdown",
   "metadata": {},
   "source": [
    "Yesterday's Class on Data Analysis\n",
    "We used the Homelessness dataset "
   ]
  },
  {
   "cell_type": "code",
   "execution_count": 1,
   "metadata": {},
   "outputs": [],
   "source": [
    "# Your code here\n",
    "import pandas as pd\n",
    "import matplotlib as plt"
   ]
  },
  {
   "cell_type": "code",
   "execution_count": 7,
   "metadata": {},
   "outputs": [
    {
     "name": "stdout",
     "output_type": "stream",
     "text": [
      "<class 'pandas.core.frame.DataFrame'>\n",
      "Index: 51 entries, 0 to 50\n",
      "Data columns (total 5 columns):\n",
      " #   Column          Non-Null Count  Dtype  \n",
      "---  ------          --------------  -----  \n",
      " 0   region          51 non-null     object \n",
      " 1   state           51 non-null     object \n",
      " 2   individuals     51 non-null     float64\n",
      " 3   family_members  51 non-null     float64\n",
      " 4   state_pop       51 non-null     int64  \n",
      "dtypes: float64(2), int64(1), object(2)\n",
      "memory usage: 2.4+ KB\n",
      "None\n",
      "               region                 state  individuals  family_members  \\\n",
      "0  East South Central               Alabama       2570.0           864.0   \n",
      "1             Pacific                Alaska       1434.0           582.0   \n",
      "2            Mountain               Arizona       7259.0          2606.0   \n",
      "3  West South Central              Arkansas       2280.0           432.0   \n",
      "4             Pacific            California     109008.0         20964.0   \n",
      "5            Mountain              Colorado       7607.0          3250.0   \n",
      "6         New England           Connecticut       2280.0          1696.0   \n",
      "7      South Atlantic              Delaware        708.0           374.0   \n",
      "8      South Atlantic  District of Columbia       3770.0          3134.0   \n",
      "9      South Atlantic               Florida      21443.0          9587.0   \n",
      "\n",
      "   state_pop  \n",
      "0    4887681  \n",
      "1     735139  \n",
      "2    7158024  \n",
      "3    3009733  \n",
      "4   39461588  \n",
      "5    5691287  \n",
      "6    3571520  \n",
      "7     965479  \n",
      "8     701547  \n",
      "9   21244317  \n"
     ]
    }
   ],
   "source": [
    "homelessness = pd.read_csv(\"C:/Users/DAZI/Desktop/CWW/Data/homelessness.csv\", index_col=0)\n",
    "print(homelessness.info())\n",
    "# printing the very first columns\n",
    "print(homelessness.head(10))"
   ]
  },
  {
   "cell_type": "code",
   "execution_count": 8,
   "metadata": {},
   "outputs": [
    {
     "name": "stdout",
     "output_type": "stream",
     "text": [
      "0      2570.0\n",
      "1      1434.0\n",
      "2      7259.0\n",
      "3      2280.0\n",
      "4    109008.0\n",
      "5      7607.0\n",
      "6      2280.0\n",
      "7       708.0\n",
      "8      3770.0\n",
      "9     21443.0\n",
      "Name: individuals, dtype: float64\n"
     ]
    }
   ],
   "source": [
    "# select only teh individual column\n",
    "individuals = homelessness[\"individuals\"]\n",
    "print(individuals.head(10)) "
   ]
  },
  {
   "cell_type": "code",
   "execution_count": 9,
   "metadata": {},
   "outputs": [
    {
     "name": "stdout",
     "output_type": "stream",
     "text": [
      "                  state  family_members\n",
      "0               Alabama           864.0\n",
      "1                Alaska           582.0\n",
      "2               Arizona          2606.0\n",
      "3              Arkansas           432.0\n",
      "4            California         20964.0\n",
      "5              Colorado          3250.0\n",
      "6           Connecticut          1696.0\n",
      "7              Delaware           374.0\n",
      "8  District of Columbia          3134.0\n",
      "9               Florida          9587.0\n"
     ]
    }
   ],
   "source": [
    "# select both state and family members\n",
    "state_fam = homelessness[[\"state\", \"family_members\"]]\n",
    "\n",
    "# print the result\n",
    "print(state_fam.head(10))"
   ]
  },
  {
   "cell_type": "code",
   "execution_count": 10,
   "metadata": {},
   "outputs": [
    {
     "name": "stdout",
     "output_type": "stream",
     "text": [
      "   individuals                 state\n",
      "0       2570.0               Alabama\n",
      "1       1434.0                Alaska\n",
      "2       7259.0               Arizona\n",
      "3       2280.0              Arkansas\n",
      "4     109008.0            California\n",
      "5       7607.0              Colorado\n",
      "6       2280.0           Connecticut\n",
      "7        708.0              Delaware\n",
      "8       3770.0  District of Columbia\n",
      "9      21443.0               Florida\n"
     ]
    }
   ],
   "source": [
    "# select both individuals and state\n",
    "ind_state = homelessness[[\"individuals\", \"state\"]]\n",
    "\n",
    "# print the result\n",
    "print(ind_state.head(10))\n",
    "ind_state.to_csv('ind_state.csv', index=False)"
   ]
  },
  {
   "cell_type": "code",
   "execution_count": 11,
   "metadata": {},
   "outputs": [
    {
     "name": "stdout",
     "output_type": "stream",
     "text": [
      "                region       state  individuals  family_members  state_pop\n",
      "4              Pacific  California     109008.0         20964.0   39461588\n",
      "9       South Atlantic     Florida      21443.0          9587.0   21244317\n",
      "32        Mid-Atlantic    New York      39827.0         52070.0   19530351\n",
      "37             Pacific      Oregon      11139.0          3337.0    4181886\n",
      "43  West South Central       Texas      19199.0          6111.0   28628666\n",
      "47             Pacific  Washington      16424.0          5880.0    7523869\n"
     ]
    }
   ],
   "source": [
    "#filter for individuals greater than 10,000\n",
    "ind_grt_10000 = homelessness[homelessness[\"individuals\"] > 10000]\n",
    "\n",
    "print(ind_grt_10000)\n",
    "\n",
    "ind_grt_10000.to_csv('ind_grt_10000.csv', index=False)"
   ]
  },
  {
   "cell_type": "code",
   "execution_count": 12,
   "metadata": {},
   "outputs": [
    {
     "name": "stdout",
     "output_type": "stream",
     "text": [
      "                region       state  individuals  family_members  state_pop\n",
      "4              Pacific  California     109008.0         20964.0   39461588\n",
      "9       South Atlantic     Florida      21443.0          9587.0   21244317\n",
      "32        Mid-Atlantic    New York      39827.0         52070.0   19530351\n",
      "37             Pacific      Oregon      11139.0          3337.0    4181886\n",
      "43  West South Central       Texas      19199.0          6111.0   28628666\n",
      "47             Pacific  Washington      16424.0          5880.0    7523869\n"
     ]
    }
   ],
   "source": [
    "#filter for individuals greater than 10,000 and family_members more than 2000\n",
    "ind_fam_mem_grt = homelessness[(homelessness[\"individuals\"] > 10000) & (homelessness[\"family_members\"] > 2000)]\n",
    "\n",
    "print(ind_fam_mem_grt)"
   ]
  },
  {
   "cell_type": "code",
   "execution_count": 13,
   "metadata": {},
   "outputs": [
    {
     "name": "stdout",
     "output_type": "stream",
     "text": [
      "   state_pop              region\n",
      "0    4887681  East South Central\n",
      "1     735139             Pacific\n",
      "2    7158024            Mountain\n",
      "3    3009733  West South Central\n",
      "4   39461588             Pacific\n",
      "5    5691287            Mountain\n",
      "6    3571520         New England\n",
      "7     965479      South Atlantic\n",
      "8     701547      South Atlantic\n",
      "9   21244317      South Atlantic\n",
      "    state_pop              region\n",
      "50     577601            Mountain\n",
      "45     624358         New England\n",
      "8      701547      South Atlantic\n",
      "1      735139             Pacific\n",
      "34     758080  West North Central\n",
      "41     878698  West North Central\n",
      "7      965479      South Atlantic\n",
      "39    1058287         New England\n",
      "26    1060665            Mountain\n",
      "19    1339057         New England\n"
     ]
    }
   ],
   "source": [
    "# sorting the statepop_region by state_pop in ascending order \n",
    "statepop_reg = homelessness[[\"state_pop\", \"region\"]]\n",
    "print(statepop_reg.head(10))\n",
    "\n",
    "statepop_reg_sorted = statepop_reg.sort_values(by=\"state_pop\", ascending=True)\n",
    "print(statepop_reg_sorted.head(10))\n"
   ]
  }
 ],
 "metadata": {
  "kernelspec": {
   "display_name": "Python 3",
   "language": "python",
   "name": "python3"
  },
  "language_info": {
   "codemirror_mode": {
    "name": "ipython",
    "version": 3
   },
   "file_extension": ".py",
   "mimetype": "text/x-python",
   "name": "python",
   "nbconvert_exporter": "python",
   "pygments_lexer": "ipython3",
   "version": "3.11.4"
  },
  "orig_nbformat": 4
 },
 "nbformat": 4,
 "nbformat_minor": 2
}
